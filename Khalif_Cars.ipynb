{
 "cells": [
  {
   "cell_type": "markdown",
   "id": "95b3adc8",
   "metadata": {},
   "source": [
    "# Imports "
   ]
  },
  {
   "cell_type": "code",
   "execution_count": 45,
   "id": "21909f15",
   "metadata": {},
   "outputs": [],
   "source": [
    "import requests \n",
    "from bs4 import BeautifulSoup\n",
    "import pandas as pd \n",
    "import urllib.parse"
   ]
  },
  {
   "cell_type": "markdown",
   "id": "f0b9bbc0",
   "metadata": {},
   "source": [
    "# Define url and Make Requests"
   ]
  },
  {
   "cell_type": "code",
   "execution_count": 46,
   "id": "e32c38ab",
   "metadata": {},
   "outputs": [],
   "source": [
    "url = 'https://www.kaiandkaro.com/vehicles?price__lte=500000'\n",
    "Res = requests.get(url)\n",
    "Response = Res.content"
   ]
  },
  {
   "cell_type": "markdown",
   "id": "0481e97e",
   "metadata": {},
   "source": [
    "# Making Soup"
   ]
  },
  {
   "cell_type": "code",
   "execution_count": 47,
   "id": "7bdccc4e",
   "metadata": {},
   "outputs": [],
   "source": [
    "Soup = BeautifulSoup(Response, 'html.parser')\n",
    "Results = Soup.find_all('div', class_='css-1xuz41c')"
   ]
  },
  {
   "cell_type": "markdown",
   "id": "bf622214",
   "metadata": {},
   "source": [
    "# First Car Scraping"
   ]
  },
  {
   "cell_type": "code",
   "execution_count": 48,
   "id": "252e66b3",
   "metadata": {},
   "outputs": [],
   "source": [
    "C_Name = Results[0].find('h2', class_= 'chakra-heading css-18j379d').get_text()\n",
    "C_YoM = Results[0].find('span', class_= 'chakra-badge css-1dub5x4').get_text()\n",
    "C_D_Mode = Results[0].find('span', class_= 'css-evl6jo').get_text()\n",
    "C_Eng_Mode = Results[0].find('div', class_='chakra-stack css-rmxdag').find_all('span', class_= 'css-evl6jo')[1].get_text().split()[0]\n",
    "C_Used = Results[0].find('span', class_= 'css-b03jaa').get_text()\n",
    "C_Price = Results[0].find('span', class_= 'chakra-text css-0').get_text()\n",
    "C_Sell_Mode = Results[0].find('span', class_= 'chakra-badge css-yt451y').get_text()\n",
    "C_Avail = Results[0].find('span', class_= 'chakra-badge css-i1hse3').get_text()\n",
    "C_URL = Results[0].find('a', class_='chakra-linkbox__overlay css-1hnz6hu').get('href')"
   ]
  },
  {
   "cell_type": "markdown",
   "id": "7888442d",
   "metadata": {},
   "source": [
    "# Full Car URL"
   ]
  },
  {
   "cell_type": "code",
   "execution_count": 49,
   "id": "26cfd05d",
   "metadata": {},
   "outputs": [
    {
     "name": "stdout",
     "output_type": "stream",
     "text": [
      "https://www.kaiandkaro.com/vehicles/nissan-tiida-d7pdqtm\n"
     ]
    }
   ],
   "source": [
    "root_url = 'https://www.kaiandkaro.com'\n",
    "Full_Url = root_url + C_URL\n",
    "print(Full_Url)"
   ]
  },
  {
   "cell_type": "markdown",
   "id": "65ea0dc6",
   "metadata": {},
   "source": [
    "# Pulling the first page"
   ]
  },
  {
   "cell_type": "code",
   "execution_count": 50,
   "id": "62f11304",
   "metadata": {},
   "outputs": [
    {
     "name": "stdout",
     "output_type": "stream",
     "text": [
      "[' Nissan Tiida']\n"
     ]
    }
   ],
   "source": [
    "Car_Name = []\n",
    "Year_of_Manufacture = []\n",
    "Car_Drive_Mode = []\n",
    "Car_Eng_Cap = []\n",
    "Car_Used = []\n",
    "Car_Price = []\n",
    "Car_Same_Mode = []\n",
    "Car_Avail = []\n",
    "Car_URL = []\n",
    "for Result in Results:\n",
    "    try:\n",
    "        Car_Name.append(Result.find('h2', class_= 'chakra-heading css-18j379d').get_text())\n",
    "    except:\n",
    "        Car_Name.append('n/a')\n",
    "print(Car_Name)"
   ]
  },
  {
   "cell_type": "code",
   "execution_count": null,
   "id": "f64ad300",
   "metadata": {},
   "outputs": [],
   "source": []
  },
  {
   "cell_type": "code",
   "execution_count": null,
   "id": "4e351529",
   "metadata": {},
   "outputs": [],
   "source": []
  }
 ],
 "metadata": {
  "kernelspec": {
   "display_name": "Python 3 (ipykernel)",
   "language": "python",
   "name": "python3"
  },
  "language_info": {
   "codemirror_mode": {
    "name": "ipython",
    "version": 3
   },
   "file_extension": ".py",
   "mimetype": "text/x-python",
   "name": "python",
   "nbconvert_exporter": "python",
   "pygments_lexer": "ipython3",
   "version": "3.11.7"
  }
 },
 "nbformat": 4,
 "nbformat_minor": 5
}
