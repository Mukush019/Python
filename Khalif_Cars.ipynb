{
 "cells": [
  {
   "cell_type": "markdown",
   "id": "95b3adc8",
   "metadata": {},
   "source": [
    "# Imports "
   ]
  },
  {
   "cell_type": "code",
   "execution_count": 1,
   "id": "21909f15",
   "metadata": {},
   "outputs": [],
   "source": [
    "import requests \n",
    "from bs4 import BeautifulSoup\n",
    "import pandas as pd \n",
    "import urllib.parse"
   ]
  },
  {
   "cell_type": "markdown",
   "id": "f0b9bbc0",
   "metadata": {},
   "source": [
    "# Define url and Make Requests"
   ]
  },
  {
   "cell_type": "code",
   "execution_count": 2,
   "id": "e32c38ab",
   "metadata": {},
   "outputs": [],
   "source": [
    "url = 'https://www.kaiandkaro.com/vehicles?price__lte=500000'\n",
    "Res = requests.get(url)\n",
    "Response = Res.content"
   ]
  },
  {
   "cell_type": "markdown",
   "id": "0481e97e",
   "metadata": {},
   "source": [
    "# Making Soup"
   ]
  },
  {
   "cell_type": "code",
   "execution_count": 3,
   "id": "7bdccc4e",
   "metadata": {},
   "outputs": [],
   "source": [
    "Soup = BeautifulSoup(Response, 'html.parser')"
   ]
  },
  {
   "cell_type": "markdown",
   "id": "bf622214",
   "metadata": {},
   "source": [
    "## Car_Name "
   ]
  },
  {
   "cell_type": "code",
   "execution_count": 8,
   "id": "252e66b3",
   "metadata": {},
   "outputs": [],
   "source": [
    "Car_Name = Soup.find_all('h2', class_ = 'chakra-heading css-18j379d')"
   ]
  },
  {
   "cell_type": "markdown",
   "id": "0a960008",
   "metadata": {},
   "source": [
    "## Year of Manufacture "
   ]
  },
  {
   "cell_type": "code",
   "execution_count": 136,
   "id": "9eedd265",
   "metadata": {},
   "outputs": [],
   "source": [
    "Car_YoM = Soup.find_all('span', class_ = 'chakra-badge css-1dub5x4')"
   ]
  },
  {
   "cell_type": "markdown",
   "id": "2d1809f8",
   "metadata": {},
   "source": [
    "## Origin"
   ]
  },
  {
   "cell_type": "code",
   "execution_count": 63,
   "id": "b593be75",
   "metadata": {},
   "outputs": [],
   "source": [
    "Car_Origin = Soup.find_all('span', class_ = 'css-b03jaa')"
   ]
  },
  {
   "cell_type": "markdown",
   "id": "d14f8a25",
   "metadata": {},
   "source": [
    "## Price"
   ]
  },
  {
   "cell_type": "code",
   "execution_count": 190,
   "id": "50342fe0",
   "metadata": {},
   "outputs": [],
   "source": [
    "divs = Soup.find_all('div', class_='chakra-stack css-1hl87jg')\n",
    "Car_Price = [div.find('p', class_='chakra-text css-0') for div in divs if div.find('p', class_='chakra-text css-0') is not None]"
   ]
  },
  {
   "cell_type": "markdown",
   "id": "f931d601",
   "metadata": {},
   "source": [
    "## Car_Mode_of_Sell"
   ]
  },
  {
   "cell_type": "code",
   "execution_count": 70,
   "id": "fc25c421",
   "metadata": {},
   "outputs": [],
   "source": [
    "Car_Mode_of_Sell = Soup.find_all('span', class_ = 'chakra-badge css-yt451y')"
   ]
  },
  {
   "cell_type": "markdown",
   "id": "0c2781d6",
   "metadata": {},
   "source": [
    "## Car_Link"
   ]
  },
  {
   "cell_type": "code",
   "execution_count": 75,
   "id": "5300ab20",
   "metadata": {},
   "outputs": [],
   "source": [
    "Car_Link = Soup.find_all('a', class_ = 'chakra-linkbox__overlay css-1hnz6hu')"
   ]
  },
  {
   "cell_type": "markdown",
   "id": "56eab457",
   "metadata": {},
   "source": [
    "## Car_Availability"
   ]
  },
  {
   "cell_type": "code",
   "execution_count": 111,
   "id": "0a9a77cc",
   "metadata": {},
   "outputs": [],
   "source": [
    "Car_Availabilty = Soup.find_all('span', {'class': ['chakra-badge css-i1hse3','chakra-badge css-xuq7o7']})"
   ]
  },
  {
   "cell_type": "markdown",
   "id": "7888442d",
   "metadata": {},
   "source": [
    "# Full Car URL"
   ]
  },
  {
   "cell_type": "code",
   "execution_count": 108,
   "id": "26cfd05d",
   "metadata": {},
   "outputs": [],
   "source": [
    "root_url = 'https://www.kaiandkaro.com'"
   ]
  },
  {
   "cell_type": "markdown",
   "id": "65ea0dc6",
   "metadata": {},
   "source": [
    "# Pulling the first page"
   ]
  },
  {
   "cell_type": "code",
   "execution_count": 200,
   "id": "62f11304",
   "metadata": {},
   "outputs": [],
   "source": [
    "Name = []\n",
    "Year_of_Manufacture = []\n",
    "Car_Used = []\n",
    "C_Price = []\n",
    "Sell_Mode = []\n",
    "Availability = []\n",
    "Car_URL = []\n",
    "for tags in Car_Name:\n",
    "    Name.append(tags.text)\n",
    "for tags in Car_YoM:\n",
    "    Year_of_Manufacture.append(tags.text)\n",
    "for tags in Car_Origin:\n",
    "    Car_Used.append(tags.text)\n",
    "for tags in Car_Price:\n",
    "    C_Price.append(tags.text.replace('KES\\xa0',''))\n",
    "for tags in Car_Mode_of_Sell:\n",
    "    Sell_Mode.append(tags.text)\n",
    "for tags in Car_Availabilty:\n",
    "    Availability.append(tags.text)\n",
    "for tags in Car_Link:\n",
    "    Car_URL.append(root_url + tags['href'])"
   ]
  },
  {
   "cell_type": "markdown",
   "id": "7df8f13d",
   "metadata": {},
   "source": [
    "## To pandas then csv"
   ]
  },
  {
   "cell_type": "code",
   "execution_count": 198,
   "id": "cf70c7c0",
   "metadata": {},
   "outputs": [],
   "source": [
    "Cars_Store = pd.DataFrame(\n",
    "                         {\n",
    "                             'Name': Name,\n",
    "                             'YOM': Year_of_Manufacture,\n",
    "                             'Kenyan/Foreign': Car_Used,\n",
    "                             'Price': C_Price,\n",
    "                             'Selling_Mode': Sell_Mode,\n",
    "                             'Vehicle_Availability': Availability,\n",
    "                             'Vehicle_Link':Car_URL\n",
    "                         }\n",
    "                         )"
   ]
  },
  {
   "cell_type": "markdown",
   "id": "3733800f",
   "metadata": {},
   "source": [
    "### To CSV"
   ]
  },
  {
   "cell_type": "code",
   "execution_count": 199,
   "id": "cdaf8cae",
   "metadata": {},
   "outputs": [],
   "source": [
    "Cars_Store.to_csv('Under_500kCars.csv',index = None)"
   ]
  },
  {
   "cell_type": "markdown",
   "id": "c7446907",
   "metadata": {},
   "source": [
    "# Pagination"
   ]
  },
  {
   "cell_type": "code",
   "execution_count": 203,
   "id": "c86a9f97",
   "metadata": {},
   "outputs": [],
   "source": [
    "Name = []\n",
    "Year_of_Manufacture = []\n",
    "Car_Used = []\n",
    "C_Price = []\n",
    "Sell_Mode = []\n",
    "Availability = []\n",
    "Car_URL = []\n",
    "for i in range (1,3):\n",
    "    url = 'https://www.kaiandkaro.com/vehicles?price__lte=500000&page=' + str(i)\n",
    "    Res = requests.get(url)\n",
    "    Response = Res.content\n",
    "    Soup = BeautifulSoup(Response, 'html.parser')\n",
    "    Car_Name = Soup.find_all('h2', class_ = 'chakra-heading css-18j379d')\n",
    "    Car_YoM = Soup.find_all('span', class_ = 'chakra-badge css-1dub5x4')\n",
    "    Car_Origin = Soup.find_all('span', class_ = 'css-b03jaa')\n",
    "    divs = Soup.find_all('div', class_='chakra-stack css-1hl87jg')\n",
    "    Car_Price = [div.find('p', class_='chakra-text css-0') for div in divs if div.find('p', class_='chakra-text css-0') is not None]\n",
    "    Car_Mode_of_Sell = Soup.find_all('span', class_ = 'chakra-badge css-yt451y')\n",
    "    Car_Link = Soup.find_all('a', class_ = 'chakra-linkbox__overlay css-1hnz6hu')\n",
    "    Car_Availabilty = Soup.find_all('span', {'class': ['chakra-badge css-i1hse3','chakra-badge css-xuq7o7']})\n",
    "    \n",
    "    for tags in Car_Name:\n",
    "        Name.append(tags.text)\n",
    "    for tags in Car_YoM:\n",
    "        Year_of_Manufacture.append(tags.text)\n",
    "    for tags in Car_Origin:\n",
    "        Car_Used.append(tags.text)\n",
    "    for tags in Car_Price:\n",
    "        C_Price.append(tags.text.replace('KES\\xa0',''))\n",
    "    for tags in Car_Mode_of_Sell:\n",
    "        Sell_Mode.append(tags.text)\n",
    "    for tags in Car_Availabilty:\n",
    "        Availability.append(tags.text)\n",
    "    for tags in Car_Link:\n",
    "        Car_URL.append(root_url + tags['href'])\n",
    "    \n",
    "    Cars_Store = pd.DataFrame(\n",
    "                         {\n",
    "                             'Name': Name,\n",
    "                             'YOM': Year_of_Manufacture,\n",
    "                             'Kenyan/Foreign': Car_Used,\n",
    "                             'Price': C_Price,\n",
    "                             'Selling_Mode': Sell_Mode,\n",
    "                             'Vehicle_Availability': Availability,\n",
    "                             'Vehicle_Link':Car_URL\n",
    "                         }\n",
    "                         )\n",
    "    Cars_Store.to_csv('All_Under_500kCars.csv',index = None)"
   ]
  },
  {
   "cell_type": "code",
   "execution_count": null,
   "id": "faadbe4a",
   "metadata": {},
   "outputs": [],
   "source": []
  },
  {
   "cell_type": "code",
   "execution_count": null,
   "id": "eea96280",
   "metadata": {},
   "outputs": [],
   "source": []
  },
  {
   "cell_type": "code",
   "execution_count": null,
   "id": "1c62ff20",
   "metadata": {},
   "outputs": [],
   "source": []
  },
  {
   "cell_type": "code",
   "execution_count": null,
   "id": "17d51ad2",
   "metadata": {},
   "outputs": [],
   "source": []
  },
  {
   "cell_type": "code",
   "execution_count": null,
   "id": "102743ba",
   "metadata": {},
   "outputs": [],
   "source": []
  },
  {
   "cell_type": "code",
   "execution_count": null,
   "id": "eb0fa0bd",
   "metadata": {},
   "outputs": [],
   "source": []
  },
  {
   "cell_type": "code",
   "execution_count": null,
   "id": "bee7ec07",
   "metadata": {},
   "outputs": [],
   "source": []
  },
  {
   "cell_type": "code",
   "execution_count": null,
   "id": "331b0393",
   "metadata": {},
   "outputs": [],
   "source": []
  },
  {
   "cell_type": "code",
   "execution_count": null,
   "id": "2b0ee635",
   "metadata": {},
   "outputs": [],
   "source": []
  },
  {
   "cell_type": "code",
   "execution_count": null,
   "id": "4e351529",
   "metadata": {},
   "outputs": [],
   "source": []
  }
 ],
 "metadata": {
  "kernelspec": {
   "display_name": "Python 3 (ipykernel)",
   "language": "python",
   "name": "python3"
  },
  "language_info": {
   "codemirror_mode": {
    "name": "ipython",
    "version": 3
   },
   "file_extension": ".py",
   "mimetype": "text/x-python",
   "name": "python",
   "nbconvert_exporter": "python",
   "pygments_lexer": "ipython3",
   "version": "3.11.7"
  }
 },
 "nbformat": 4,
 "nbformat_minor": 5
}
