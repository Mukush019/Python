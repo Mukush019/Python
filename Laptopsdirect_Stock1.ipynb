{
 "cells": [
  {
   "cell_type": "markdown",
   "id": "d5225b1d",
   "metadata": {},
   "source": [
    "# Imports"
   ]
  },
  {
   "cell_type": "code",
   "execution_count": 1,
   "id": "f8abe6f8",
   "metadata": {},
   "outputs": [],
   "source": [
    "import requests\n",
    "from bs4 import BeautifulSoup\n",
    "import pandas as pd\n",
    "import urllib.parse"
   ]
  },
  {
   "cell_type": "markdown",
   "id": "e9560de4",
   "metadata": {},
   "source": [
    "# Making Requests "
   ]
  },
  {
   "cell_type": "code",
   "execution_count": 2,
   "id": "9a194da5",
   "metadata": {},
   "outputs": [],
   "source": [
    "url = 'https://www.laptopsdirect.co.uk/ct/laptops-and-netbooks/laptops'\n",
    "res = requests.get(url)\n",
    "Response = res.content"
   ]
  },
  {
   "cell_type": "markdown",
   "id": "633fc744",
   "metadata": {},
   "source": [
    "# Requests to Soup"
   ]
  },
  {
   "cell_type": "code",
   "execution_count": 3,
   "id": "c32ac7ba",
   "metadata": {},
   "outputs": [],
   "source": [
    "Soup = BeautifulSoup(Response, 'html.parser')"
   ]
  },
  {
   "cell_type": "markdown",
   "id": "659f2fda",
   "metadata": {},
   "source": [
    "# The Results "
   ]
  },
  {
   "cell_type": "code",
   "execution_count": 4,
   "id": "8a1b1835",
   "metadata": {},
   "outputs": [],
   "source": [
    "Results = Soup.find_all('div', class_ = 'OfferBox border-radius-large border-style-solid border-width-1 border-neutral-300 margin-y-1 b-row margin-x-0 position-relative')"
   ]
  },
  {
   "cell_type": "markdown",
   "id": "603a3d15",
   "metadata": {},
   "source": [
    "# Scraping the Title, Price, Product url, product info"
   ]
  },
  {
   "cell_type": "code",
   "execution_count": 5,
   "id": "53285ef9",
   "metadata": {},
   "outputs": [],
   "source": [
    "Lap_Name = Results[0].find('div', class_ = 'OfferBoxTitle').a.get_text()\n",
    "Offer_Lap_price = Results[0].find('span', class_ = 'offerprice').get_text()\n",
    "Org_Lap_price = Results[0].find('span', class_ = 'strikethrough').get_text()\n",
    "Dis_Lap_price = Results[0].find('div', class_ = 'SavingsPrice').span.span.get_text()\n",
    "Lap_Desc = Results[0].find('div', class_ = 'productInfo').get_text().split()\n",
    "Lap_url = Results[0].find('a', class_ = 'offerboxtitle').get('href')"
   ]
  },
  {
   "cell_type": "markdown",
   "id": "bd858099",
   "metadata": {},
   "source": [
    "# Combining Url "
   ]
  },
  {
   "cell_type": "code",
   "execution_count": 6,
   "id": "46e69b94",
   "metadata": {},
   "outputs": [
    {
     "name": "stdout",
     "output_type": "stream",
     "text": [
      "https://www.laptopsdirect.co.uk/hp-255-g9-amd-ryzen-7-5825u-16gb-ram-512gb-ssd-15.6-inch-windows-11-pro-lap-816r4ea/version.asp\n"
     ]
    }
   ],
   "source": [
    "Root_url = 'https://www.laptopsdirect.co.uk'\n",
    "Full_url = Root_url + Lap_url\n",
    "print(Full_url)"
   ]
  },
  {
   "cell_type": "markdown",
   "id": "423225fb",
   "metadata": {},
   "source": [
    "# Combining all Laptop List in First Page"
   ]
  },
  {
   "cell_type": "code",
   "execution_count": 7,
   "id": "e80f1b7e",
   "metadata": {},
   "outputs": [],
   "source": [
    "L_Name = []\n",
    "L_Org_Price = []\n",
    "L_Offer_price = []\n",
    "L_Dis_Price = []\n",
    "L_Desc = []\n",
    "L_Url = []\n",
    "for Result in Results:\n",
    "    try:\n",
    "        L_Name.append(Result.find('div', class_ = 'OfferBoxTitle').a.get_text())\n",
    "    except:\n",
    "        L_Name.append('n/a')\n",
    "    try:\n",
    "        L_Org_Price.append(Result.find('span', class_ = 'strikethrough').get_text())\n",
    "    except:\n",
    "        L_Org_Price.append('n/a')\n",
    "    try:\n",
    "        L_Offer_price.append(Result.find('span', class_ = 'offerprice').get_text().replace('\\n', ''))\n",
    "    except:\n",
    "        L_Offer_price.append('n/a')\n",
    "    try:\n",
    "        L_Dis_Price.append(Result.find('div', class_ = 'SavingsPrice').span.span.get_text())\n",
    "    except:\n",
    "        L_Dis_Price.append('n/a')\n",
    "    try:\n",
    "        L_Desc.append(Result.find('div', class_ = 'productInfo').get_text().replace('\\n', ''))\n",
    "    except:\n",
    "        L_Desc.append('n/a')\n",
    "    try:\n",
    "        L_Url.append(Result.find('a', class_ = 'offerboxtitle').get('href'))\n",
    "    except:\n",
    "        L_Url.append('n/a')"
   ]
  },
  {
   "cell_type": "markdown",
   "id": "37a5258d",
   "metadata": {},
   "source": [
    "# Full Url for First Page"
   ]
  },
  {
   "cell_type": "code",
   "execution_count": 8,
   "id": "fb7a7f95",
   "metadata": {},
   "outputs": [],
   "source": [
    "Sites = []\n",
    "for link in L_Url:\n",
    "    Sites.append(urllib.parse.urljoin(Root_url, link))"
   ]
  },
  {
   "cell_type": "markdown",
   "id": "15e20d45",
   "metadata": {},
   "source": [
    "# Use pandas "
   ]
  },
  {
   "cell_type": "code",
   "execution_count": 9,
   "id": "2eb8c218",
   "metadata": {},
   "outputs": [],
   "source": [
    "Laptopsdirect = pd.DataFrame({\n",
    "                              'Laptop_Name': L_Name,\n",
    "                              'Original_Price': L_Org_Price,\n",
    "                              'Offer_Price': L_Offer_price,\n",
    "                              'Discount_Offered': L_Dis_Price,\n",
    "                              'Laptop_Description': L_Desc,\n",
    "                              'Product_Link': Sites\n",
    "                             }\n",
    "                            )"
   ]
  },
  {
   "cell_type": "markdown",
   "id": "3194d4cc",
   "metadata": {},
   "source": [
    "# To Excel"
   ]
  },
  {
   "cell_type": "code",
   "execution_count": 10,
   "id": "f838e4aa",
   "metadata": {},
   "outputs": [],
   "source": [
    "Laptopsdirect.to_excel('Laptopsdiret_FirstPage.xlsx', index = False) "
   ]
  },
  {
   "cell_type": "markdown",
   "id": "65f6d014",
   "metadata": {},
   "source": [
    "# Pagination"
   ]
  },
  {
   "cell_type": "code",
   "execution_count": null,
   "id": "92fa90c2",
   "metadata": {},
   "outputs": [],
   "source": [
    "L_Name = []\n",
    "L_Org_Price = []\n",
    "L_Offer_price = []\n",
    "L_Dis_Price = []\n",
    "L_Desc = []\n",
    "L_Url = []\n",
    "\n",
    "for i in range (1,25):\n",
    "    website = 'https://www.laptopsdirect.co.uk/ct/laptops-and-netbooks/laptops?pageNumber=' + str(i)\n",
    "    Resp = requests.get(website)\n",
    "    Soup = BeautifulSoup(Resp.content, 'html.parser')\n",
    "    Results = Soup.find_all('div', class_ = 'OfferBox border-radius-large border-style-solid border-width-1 border-neutral-300 margin-y-1 b-row margin-x-0 position-relative')\n",
    "    \n",
    "    for Result in Results:\n",
    "        try:\n",
    "            L_Name.append(Result.find('div', class_ = 'OfferBoxTitle').a.get_text())\n",
    "        except:\n",
    "            L_Name.append('n/a')\n",
    "        try:\n",
    "            L_Org_Price.append(Result.find('span', class_ = 'strikethrough').get_text())\n",
    "        except:\n",
    "            L_Org_Price.append('n/a')\n",
    "        try:\n",
    "            L_Offer_price.append(Result.find('span', class_ = 'offerprice').get_text().replace('\\n', ''))\n",
    "        except:\n",
    "            L_Offer_price.append('n/a')\n",
    "        try:\n",
    "            L_Dis_Price.append(Result.find('div', class_ = 'SavingsPrice').span.span.get_text())\n",
    "        except:\n",
    "            L_Dis_Price.append('n/a')\n",
    "        try:\n",
    "            L_Desc.append(Result.find('div', class_ = 'productInfo').get_text().replace('\\n', ''))\n",
    "        except:\n",
    "            L_Desc.append('n/a')\n",
    "        try:\n",
    "            L_Url.append(Result.find('a', class_ = 'offerboxtitle').get('href'))\n",
    "        except:\n",
    "            L_Url.append('n/a')\n",
    "     \n",
    "        \n",
    "    Sites = []\n",
    "    for link in L_Url:\n",
    "        Sites.append(urllib.parse.urljoin(Root_url, link))\n",
    "\n",
    "    Laptopsdirect2 = pd.DataFrame({\n",
    "                                  'Laptop_Name': L_Name,\n",
    "                                  'Original_Price': L_Org_Price,\n",
    "                                  'Offer_Price': L_Offer_price,\n",
    "                                  'Discount_Offered': L_Dis_Price,\n",
    "                                  'Laptop_Description': L_Desc,\n",
    "                                  'Product_Link': Sites\n",
    "                                 }\n",
    "                                )\n",
    "Laptopsdirect2.to_excel('Laptopsdiret_Stocklist.xlsx', index = False) \n",
    "            "
   ]
  },
  {
   "cell_type": "code",
   "execution_count": null,
   "id": "7de744e3",
   "metadata": {},
   "outputs": [],
   "source": []
  }
 ],
 "metadata": {
  "kernelspec": {
   "display_name": "Python 3 (ipykernel)",
   "language": "python",
   "name": "python3"
  },
  "language_info": {
   "codemirror_mode": {
    "name": "ipython",
    "version": 3
   },
   "file_extension": ".py",
   "mimetype": "text/x-python",
   "name": "python",
   "nbconvert_exporter": "python",
   "pygments_lexer": "ipython3",
   "version": "3.11.7"
  }
 },
 "nbformat": 4,
 "nbformat_minor": 5
}
